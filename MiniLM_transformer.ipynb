{
 "cells": [
  {
   "cell_type": "code",
   "execution_count": 1,
   "id": "c3b12303",
   "metadata": {},
   "outputs": [
    {
     "name": "stderr",
     "output_type": "stream",
     "text": [
      "C:\\Users\\DELL\\anaconda3\\lib\\site-packages\\pandas\\core\\computation\\expressions.py:21: UserWarning: Pandas requires version '2.8.4' or newer of 'numexpr' (version '2.8.3' currently installed).\n",
      "  from pandas.core.computation.check import NUMEXPR_INSTALLED\n",
      "C:\\Users\\DELL\\anaconda3\\lib\\site-packages\\pandas\\core\\arrays\\masked.py:60: UserWarning: Pandas requires version '1.3.6' or newer of 'bottleneck' (version '1.3.5' currently installed).\n",
      "  from pandas.core import (\n"
     ]
    },
    {
     "data": {
      "application/vnd.jupyter.widget-view+json": {
       "model_id": "eed9a3b892d24ad2b7fd2b89b23c76f5",
       "version_major": 2,
       "version_minor": 0
      },
      "text/plain": [
       "modules.json:   0%|          | 0.00/349 [00:00<?, ?B/s]"
      ]
     },
     "metadata": {},
     "output_type": "display_data"
    },
    {
     "name": "stderr",
     "output_type": "stream",
     "text": [
      "C:\\Users\\DELL\\anaconda3\\lib\\site-packages\\huggingface_hub\\file_download.py:149: UserWarning: `huggingface_hub` cache-system uses symlinks by default to efficiently store duplicated files but your machine does not support them in C:\\Users\\DELL\\.cache\\huggingface\\hub\\models--sentence-transformers--all-MiniLM-L6-v2. Caching files will still work but in a degraded version that might require more space on your disk. This warning can be disabled by setting the `HF_HUB_DISABLE_SYMLINKS_WARNING` environment variable. For more details, see https://huggingface.co/docs/huggingface_hub/how-to-cache#limitations.\n",
      "To support symlinks on Windows, you either need to activate Developer Mode or to run Python as an administrator. In order to see activate developer mode, see this article: https://docs.microsoft.com/en-us/windows/apps/get-started/enable-your-device-for-development\n",
      "  warnings.warn(message)\n"
     ]
    },
    {
     "data": {
      "application/vnd.jupyter.widget-view+json": {
       "model_id": "b80dec14211942a08d597cf281ad2ea1",
       "version_major": 2,
       "version_minor": 0
      },
      "text/plain": [
       "config_sentence_transformers.json:   0%|          | 0.00/116 [00:00<?, ?B/s]"
      ]
     },
     "metadata": {},
     "output_type": "display_data"
    },
    {
     "data": {
      "application/vnd.jupyter.widget-view+json": {
       "model_id": "864f47d4389742b291092a446c4d3440",
       "version_major": 2,
       "version_minor": 0
      },
      "text/plain": [
       "README.md:   0%|          | 0.00/10.7k [00:00<?, ?B/s]"
      ]
     },
     "metadata": {},
     "output_type": "display_data"
    },
    {
     "data": {
      "application/vnd.jupyter.widget-view+json": {
       "model_id": "56bb1722f8ce4b218589274bb1d1b296",
       "version_major": 2,
       "version_minor": 0
      },
      "text/plain": [
       "sentence_bert_config.json:   0%|          | 0.00/53.0 [00:00<?, ?B/s]"
      ]
     },
     "metadata": {},
     "output_type": "display_data"
    },
    {
     "data": {
      "application/vnd.jupyter.widget-view+json": {
       "model_id": "25a93425530f400384af2d9c8c9662ea",
       "version_major": 2,
       "version_minor": 0
      },
      "text/plain": [
       "config.json:   0%|          | 0.00/612 [00:00<?, ?B/s]"
      ]
     },
     "metadata": {},
     "output_type": "display_data"
    },
    {
     "data": {
      "application/vnd.jupyter.widget-view+json": {
       "model_id": "97e941331e554ec4896a865a12917be8",
       "version_major": 2,
       "version_minor": 0
      },
      "text/plain": [
       "model.safetensors:   0%|          | 0.00/90.9M [00:00<?, ?B/s]"
      ]
     },
     "metadata": {},
     "output_type": "display_data"
    },
    {
     "data": {
      "application/vnd.jupyter.widget-view+json": {
       "model_id": "42d07b6ca5a24d3f8b80de666abd10cb",
       "version_major": 2,
       "version_minor": 0
      },
      "text/plain": [
       "tokenizer_config.json:   0%|          | 0.00/350 [00:00<?, ?B/s]"
      ]
     },
     "metadata": {},
     "output_type": "display_data"
    },
    {
     "data": {
      "application/vnd.jupyter.widget-view+json": {
       "model_id": "411ec2aa83e7463995ff2cb77a34e7b7",
       "version_major": 2,
       "version_minor": 0
      },
      "text/plain": [
       "vocab.txt:   0%|          | 0.00/232k [00:00<?, ?B/s]"
      ]
     },
     "metadata": {},
     "output_type": "display_data"
    },
    {
     "data": {
      "application/vnd.jupyter.widget-view+json": {
       "model_id": "1729764297f643a49eb45200e9189d10",
       "version_major": 2,
       "version_minor": 0
      },
      "text/plain": [
       "tokenizer.json:   0%|          | 0.00/466k [00:00<?, ?B/s]"
      ]
     },
     "metadata": {},
     "output_type": "display_data"
    },
    {
     "data": {
      "application/vnd.jupyter.widget-view+json": {
       "model_id": "788515f75c9540f796fa42d526a89367",
       "version_major": 2,
       "version_minor": 0
      },
      "text/plain": [
       "special_tokens_map.json:   0%|          | 0.00/112 [00:00<?, ?B/s]"
      ]
     },
     "metadata": {},
     "output_type": "display_data"
    },
    {
     "data": {
      "application/vnd.jupyter.widget-view+json": {
       "model_id": "44ba67e535d34adb8ff12d88d6682968",
       "version_major": 2,
       "version_minor": 0
      },
      "text/plain": [
       "1_Pooling/config.json:   0%|          | 0.00/190 [00:00<?, ?B/s]"
      ]
     },
     "metadata": {},
     "output_type": "display_data"
    },
    {
     "name": "stdout",
     "output_type": "stream",
     "text": [
      "Running on local URL:  http://127.0.0.1:7860\n",
      "\n",
      "To create a public link, set `share=True` in `launch()`.\n"
     ]
    },
    {
     "data": {
      "text/html": [
       "<div><iframe src=\"http://127.0.0.1:7860/\" width=\"100%\" height=\"500\" allow=\"autoplay; camera; microphone; clipboard-read; clipboard-write;\" frameborder=\"0\" allowfullscreen></iframe></div>"
      ],
      "text/plain": [
       "<IPython.core.display.HTML object>"
      ]
     },
     "metadata": {},
     "output_type": "display_data"
    },
    {
     "data": {
      "text/plain": []
     },
     "execution_count": 1,
     "metadata": {},
     "output_type": "execute_result"
    },
    {
     "name": "stdout",
     "output_type": "stream",
     "text": [
      "IMPORTANT: You are using gradio version 4.21.0, however version 4.29.0 is available, please upgrade.\n",
      "--------\n"
     ]
    }
   ],
   "source": [
    "import gradio as gr\n",
    "import pandas as pd\n",
    "import numpy as np\n",
    "from sentence_transformers import SentenceTransformer\n",
    "from sklearn.metrics.pairwise import cosine_similarity\n",
    "\n",
    "# Load the dataset\n",
    "df = pd.read_csv('vet_guardian2.csv')\n",
    "\n",
    "# Initialize the sentence transformer model\n",
    "model = SentenceTransformer('all-MiniLM-L6-v2')\n",
    "\n",
    " \n",
    "def get_most_similar_disease(user_symptoms, user_species):\n",
    "    disease=[]\n",
    "    diseaseSim=[]\n",
    "    user_species = user_species.lower()\n",
    "    filtered_df = df[df['Species'] == user_species]\n",
    "    label=None\n",
    "    for label in filtered_df['Symptoms'].unique():\n",
    "        sentence1 = user_symptoms\n",
    "        sentence2 = label\n",
    "\n",
    "        # Convert the sentences into vector embeddings\n",
    "        embedding1 = model.encode(sentence1, convert_to_tensor=True)\n",
    "        embedding2 = model.encode(sentence2, convert_to_tensor=True)\n",
    "\n",
    "        # Calculate the cosine similarity between the two embeddings\n",
    "        cos_sim = np.dot(embedding1, embedding2) / (np.linalg.norm(embedding1) * np.linalg.norm(embedding2))\n",
    "        cos_sim = cos_sim*100\n",
    "        #print(label,\" and \",cos_sim)\n",
    "        disease.append(label)\n",
    "        diseaseSim.append(cos_sim)\n",
    "    return disease,diseaseSim,filtered_df\n",
    "\n",
    "def predict_disease(symptoms, species):\n",
    "    try:\n",
    "        disease, diseaseSim, filtered_df = get_most_similar_disease(symptoms, species)\n",
    "        sorted_indexes = np.argsort(diseaseSim)[::-1]  # Sort indexes based on similarity in descending order\n",
    "        result = \"\"\n",
    "        for index in sorted_indexes[:3]:  # Select the top 3 indexes\n",
    "            symptom = disease[index]\n",
    "            other_symptoms = symptom\n",
    "            other_symptoms = ', '.join(symptom for symptom in other_symptoms.split('|') if symptom != symptoms)\n",
    "            disease_name = filtered_df[filtered_df['Symptoms'] == symptom]['Disease_Name'].values[0]\n",
    "            disease_description = filtered_df[filtered_df['Symptoms'] == symptom]['Disease_Description'].values[0]\n",
    "            prevention_measures = filtered_df[filtered_df['Symptoms'] == symptom]['Prevention_Measures'].values[0]\n",
    "            result += f\"If your pet is also experiencing symptoms like {other_symptoms},\\n\"\n",
    "            result += f\"Disease: {disease_name}\\n\\n\"\n",
    "            result += f\"Description: {disease_description}\\n\\n\"\n",
    "            result += f\"Prevention Measures: {prevention_measures}\\n\\n\"\n",
    "            result += \"----------------------------------------\\n\\n\"\n",
    "        return result\n",
    "    except IndexError:\n",
    "        print(f'Error: Disease not found for symptoms: {symptoms} in species: {species}. Please consult a veterinarian.')\n",
    "        return \"Error: Disease not found. Please consult a veterinarian.\"\n",
    "           \n",
    "# Define species options\n",
    "species_options = [\"Cat\", \"Dog\", \"Hamster\", \"Guinea Pigs\", \"Cow\", \"Ferret\", \"Turtle\", \"Rabbit\", \"parrot\", \"Hen\" ]\n",
    "\n",
    "# Define the Gradio interface with dropdown for species selection\n",
    "interface = gr.Interface(\n",
    "    fn=predict_disease,\n",
    "    allow_flagging=\"never\",\n",
    "    inputs=[gr.Textbox(label=\"Symptoms\"), gr.Dropdown(label=\"Species\", choices=species_options)],\n",
    "    outputs=\"text\",\n",
    "    title=\"VET GUARDIAN\",\n",
    "    description=\"Enter the symptoms and select the species to get the disease. Format the input as 'symptoms species' (e.g., 'coughing cat')\"\n",
    ")\n",
    "# Launch the Gradio interface\n",
    "interface.launch()"
   ]
  },
  {
   "cell_type": "code",
   "execution_count": null,
   "id": "16b97c10",
   "metadata": {},
   "outputs": [],
   "source": []
  },
  {
   "cell_type": "code",
   "execution_count": null,
   "id": "0cd51f66",
   "metadata": {},
   "outputs": [],
   "source": []
  }
 ],
 "metadata": {
  "kernelspec": {
   "display_name": "Python 3 (ipykernel)",
   "language": "python",
   "name": "python3"
  },
  "language_info": {
   "codemirror_mode": {
    "name": "ipython",
    "version": 3
   },
   "file_extension": ".py",
   "mimetype": "text/x-python",
   "name": "python",
   "nbconvert_exporter": "python",
   "pygments_lexer": "ipython3",
   "version": "3.9.13"
  }
 },
 "nbformat": 4,
 "nbformat_minor": 5
}
